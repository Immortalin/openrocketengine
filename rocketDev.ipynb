{
 "cells": [
  {
   "cell_type": "markdown",
   "metadata": {},
   "source": [
    "# Open Rocket Engine Development Notebook"
   ]
  },
  {
   "cell_type": "markdown",
   "metadata": {},
   "source": [
    "This notebook will temporarily be used to calculate engine parameters. Equations, classes, etc. built here will eventually be moved to the enginebuilder module"
   ]
  },
  {
   "cell_type": "code",
   "execution_count": 1,
   "metadata": {
    "collapsed": true
   },
   "outputs": [],
   "source": [
    "import numpy as np"
   ]
  },
  {
   "cell_type": "markdown",
   "metadata": {},
   "source": [
    "### Useful Functions"
   ]
  },
  {
   "cell_type": "code",
   "execution_count": 2,
   "metadata": {
    "collapsed": false
   },
   "outputs": [],
   "source": [
    "def atm_to_psi(value):\n",
    "    return 14.6959*value\n",
    "\n",
    "def psi_to_atm(value):\n",
    "    return value/14.6959\n",
    "\n",
    "def kelvin_to_rankine(value):\n",
    "    return value*9/5\n",
    "\n",
    "def rankine_to_kelvin(value):\n",
    "    return value*5/9"
   ]
  },
  {
   "cell_type": "markdown",
   "metadata": {},
   "source": [
    "### Design Requirements and Fuel Properties\n",
    "User entered values.\n",
    "\n",
    "Propellant values are determined using NASA CEA and Braeuing\n",
    "http://www.braeunig.us/space/comb-OM.htm\n",
    "https://www.grc.nasa.gov/www/CEAWeb/"
   ]
  },
  {
   "cell_type": "code",
   "execution_count": 3,
   "metadata": {
    "collapsed": true
   },
   "outputs": [],
   "source": [
    "thrust = 1000  # [lbf] thrust\n",
    "Pchamber = 300 # [psi] chamber pressure\n",
    "Pambient = 14.6959  # [psi] ambient pressure\n",
    "\n",
    "# Propellant Properties\n",
    "MR = 2.60  # [1] Mixture Ratio (O:F)\n",
    "Tchamber = kelvin_to_rankine(3200) # [K]\n",
    "gamma = 1.215  # specific heat ratio\n",
    "MW_products = 18.8  # Molecular Weight of Combustion Products *VERY APPROXIMATE*"
   ]
  },
  {
   "cell_type": "code",
   "execution_count": 4,
   "metadata": {
    "collapsed": false
   },
   "outputs": [
    {
     "data": {
      "text/plain": [
       "20.413856926081426"
      ]
     },
     "execution_count": 4,
     "metadata": {},
     "output_type": "execute_result"
    }
   ],
   "source": [
    "psi_to_atm(Pchamber)"
   ]
  },
  {
   "cell_type": "markdown",
   "metadata": {},
   "source": [
    "### Some Constants"
   ]
  },
  {
   "cell_type": "code",
   "execution_count": 5,
   "metadata": {
    "collapsed": false
   },
   "outputs": [
    {
     "ename": "NameError",
     "evalue": "name 'MW_fuel' is not defined",
     "output_type": "error",
     "traceback": [
      "\u001b[0;31m---------------------------------------------------------------------------\u001b[0m",
      "\u001b[0;31mNameError\u001b[0m                                 Traceback (most recent call last)",
      "\u001b[0;32m<ipython-input-5-a6e4129c8602>\u001b[0m in \u001b[0;36m<module>\u001b[0;34m()\u001b[0m\n\u001b[1;32m      1\u001b[0m \u001b[0mg0\u001b[0m \u001b[1;33m=\u001b[0m \u001b[1;36m32.174\u001b[0m\u001b[1;33m\u001b[0m\u001b[0m\n\u001b[0;32m----> 2\u001b[0;31m \u001b[0mRspecific_fuel\u001b[0m \u001b[1;33m=\u001b[0m \u001b[1;36m18544.2\u001b[0m\u001b[1;33m/\u001b[0m\u001b[0mMW_fuel\u001b[0m\u001b[1;33m\u001b[0m\u001b[0m\n\u001b[0m\u001b[1;32m      3\u001b[0m \u001b[0mRspecific_ox\u001b[0m \u001b[1;33m=\u001b[0m \u001b[1;36m18544.2\u001b[0m\u001b[1;33m/\u001b[0m\u001b[0mMW_ox\u001b[0m\u001b[1;33m\u001b[0m\u001b[0m\n",
      "\u001b[0;31mNameError\u001b[0m: name 'MW_fuel' is not defined"
     ]
    }
   ],
   "source": [
    "g0 = 32.174\n",
    "Rspecific_fuel = 18544.2/MW_fuel\n",
    "Rspecific_ox = 18544.2/MW_ox"
   ]
  },
  {
   "cell_type": "markdown",
   "metadata": {},
   "source": [
    "### Thrust-Chamber Performance Parameters"
   ]
  }
 ],
 "metadata": {
  "kernelspec": {
   "display_name": "Python 3",
   "language": "python",
   "name": "python3"
  },
  "language_info": {
   "codemirror_mode": {
    "name": "ipython",
    "version": 3
   },
   "file_extension": ".py",
   "mimetype": "text/x-python",
   "name": "python",
   "nbconvert_exporter": "python",
   "pygments_lexer": "ipython3",
   "version": "3.6.0"
  }
 },
 "nbformat": 4,
 "nbformat_minor": 2
}
