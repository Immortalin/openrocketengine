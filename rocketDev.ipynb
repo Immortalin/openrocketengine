{
 "cells": [
  {
   "cell_type": "markdown",
   "metadata": {},
   "source": [
    "# Open Rocket Engine Development Notebook"
   ]
  },
  {
   "cell_type": "markdown",
   "metadata": {},
   "source": [
    "This notebook will temporarily be used to calculate engine parameters. Equations, classes, etc. built here will eventually be moved to the enginebuilder module"
   ]
  },
  {
   "cell_type": "code",
   "execution_count": 13,
   "metadata": {
    "collapsed": true
   },
   "outputs": [],
   "source": [
    "import matplotlib.pyplot as plt\n",
    "import numpy as np"
   ]
  },
  {
   "cell_type": "code",
   "execution_count": 18,
   "metadata": {
    "collapsed": false
   },
   "outputs": [],
   "source": [
    "def atm_to_psi(pressure):\n",
    "    return 14.6959*pressure\n",
    "\n",
    "\n",
    "class Rocket():\n",
    "    def __init__(self):\n",
    "        pass\n",
    "    \n",
    "    def get_designParamters(self):\n",
    "        \"\"\" Thrust Chamber Design Parameters \"\"\"\n",
    "        # Using P_exit = 1, and plots from\n",
    "        # http://www.braeunig.us/space/comb-OM.htm P_Chamber, T_Chamber, y, Gas_Molecular_Weight can be extracted\n",
    "        # after choosing the mixture ratio.\n",
    "        self.Characteristic_Length = 40;    # units - inches; interpolated use table 4-1 from Huzel+Huang Modern Engineering for Design of LRES \n",
    "        self.Thrust = 2000;                 # units - pounds\n",
    "        self.Tc = 2900.3;              # Chamber temperature; units - Celcius\n",
    "        self.Pc = 20;                       # Chamber pressure; units - atm\n",
    "        self.Pe = 0.82206329;               # Exit pressure - sea level; units - atm\n",
    "        self.Pa = .9278;                    # Ambient pressure - sea level; units - atm\n",
    "        self.Mixture_Ratio = 2.62;          # O/F mass ratio; unitless\n",
    "        self.Gas_Molecular_Weight = 18.833; # units - amu\n",
    "        self.gamma = 1.1510;                    # Ratio of Specific Heats - unitless\n",
    "        self.Working_Stress = 80000;        # units - psi; yield stress of inconel walling\n",
    "        \n",
    "    def get_constants(self):\n",
    "        \"\"\" Define constants \"\"\"\n",
    "        self.G_EARTH =  32.1740;   # units - ft/seconds^2\n",
    "        self.R = 1545.348963;      # universal gas constant; units - ft*lbf/R*lb-mol\n",
    "        self.FOS = 1.4;    # Factor of Safety\n",
    "\n",
    "    def get_temperatures(self):\n",
    "        \"\"\" Adiabatic Flame Temperature - Chamber Temperature; CONVERSIONS \"\"\"\n",
    "        self.TcK = self.Tc+273.15;  # units - Kelvin\n",
    "        self.TcF = self.Tc*1.8+32;  # units - Fahrenheit\n",
    "        self.TcR = self.TcF+459.67;  # units - Rankine\n",
    "\n",
    "    def get_expansion(self):\n",
    "        \"\"\" Expansion Ratio \"\"\"\n",
    "        self.expansionRatio = ((2/(self.gamma+1))**(1/(self.gamma-1))*(self.Pc/self.Pe)**(1/self.gamma)/\n",
    "                           ((self.gamma+1)/(self.gamma-1)*(1 - (self.Pe/self.Pc)**(1-1/self.gamma)) )**.5)  # unitless\n",
    "\n",
    "    def get_cStar(self):\n",
    "        \"\"\" Charateristic Velocity \"\"\"\n",
    "        self.ceeStar = (self.G_EARTH*self.gamma*self.R*self.TcR/self.Gas_Molecular_Weight)**(.5)/(self.gamma*((2/(self.gamma+1))^((self.gamma+1)/(self.gamma-1)))^.5)  # ft/second\n",
    "\n",
    "    def get_correctionFactor(self):\n",
    "        \"\"\" correction factor \"\"\"\n",
    "        self.lambaFactor = 0.985\n",
    "        \n",
    "    def get_thrustCoefficient(self):\n",
    "        \"\"\" Thrust Coefficient\"\"\"\n",
    "        self.Cf = self.lamdaFactor*(((2*self.gamma*self.gamma)/(self.gamma-1)*(2/(y+1))**((y+1)/(y-1))*\n",
    "                                     (1-(Pe/Pc)**((self.gamma-1)/self.gamma)))**(1/2) + self.expansionRatio*(self.Pe-self.Pa)/self.Pc)\n",
    "\n",
    "    def get_Isp(self):\n",
    "        \"\"\" Specific Impulse \"\"\"\n",
    "        self.Isp = self.cStar*self.Cf/self.G_EARTH  # units - seconds\n",
    "\n",
    "    def get_mdot(self):\n",
    "        \"\"\" Mass Flow Rates \"\"\"\n",
    "        self.mdotTotal = self.Thrust/self.Isp                # units - lbs/s\n",
    "        self.mdotF = self.mdotTotal/(1+self.Mixture_Ratio)   # units - lbs/s\n",
    "        self.mdotO = self.mdotTotal - mdotF                  # units - lbs/s"
   ]
  },
  {
   "cell_type": "code",
   "execution_count": null,
   "metadata": {
    "collapsed": true
   },
   "outputs": [],
   "source": [
    "class TCADimensions():\n",
    "    def __init__(self):\n",
    "        pass\n",
    "    \n",
    "    def get_NozzleThroatParameters(self):\n",
    "         \"\"\"Nozzle Throat Parameters\"\"\"\n",
    "        T_Throat_R = T_Chamber_R*(2/(1+y))                            % units - Rankine\n",
    "        P_Throat = P_Chamber*(y/2 +.5)^(y/(1-y))                      % units - atm\n",
    "        Area_Throat = (Massflow_Total*Isp) / (P_Chamber*atm_to_psi*Cf)% units - in^2\n",
    "        Diameter_Throat = (Area_Throat/pi)^.5 * 2            % units - in\n",
    "\n",
    "    def get_ContractionAreaRatio(self):\n",
    "        \"\"\"Contraction Ratio\"\"\"\n",
    "        Contraction_Ratio = 1.317303 + (32346880 - 1.317303)/(1 + (Diameter_Throat/1.041567e-10)^0.6774809) % units - inches;\n",
    "        # pulled from figure 4-9 of Modern Engineering for Design of LRES \n",
    "        # fitted using https://mycurvefit.com/\n",
    "\n",
    "    def get_NozzleExit(self):\n",
    "        \"\"\"Nozzle Exit\"\"\"\n",
    "        self.Area_Exit = Expansion_Ratio * Area_Throat % units - in^2\n",
    "        Diameter_Exit = (Area_Exit/pi)^.5 * 2 % units - in\n",
    "\n",
    "%% Chamber Parameters\n",
    "Volume_Chamber = Area_Throat*Characteristic_Length % units - in^3\n",
    "Area_Chamber = Area_Throat*Contraction_Ratio       % units - in^2\n",
    "Diameter_Chamber = (Area_Chamber/pi)^.5 * 2        % units - in^1\n",
    "Length_Chamber = Volume_Chamber/Area_Chamber/1.1   % units - in^1\n",
    "\n",
    "%% Wall Thickness\n",
    "Thickness_ChamberWall = Factor_of_Safety*P_Chamber*atm_to_psi*Diameter_Chamber / (2*Working_Stress - 2*Factor_of_Safety*P_Chamber*atm_to_psi) %units - in^1\n",
    "\n",
    "%% Nozzle Design\n",
    "% y = Px+Q+(S*x+T)^(1/2)\n",
    "% Curve Fitting Conditions  \n",
    "%     1) y(x0 == 0) == y0 == 0\n",
    "%     2) y(x1 == Nozzle_Length  - .382*Radius_Throat*sin(Theta_Initial) )\n",
    "%     == y1 == Radius_exit - (.382*Radius_Throat*(1-cos(Theta_Initial)) +\n",
    "%     Radius_Throat)\n",
    "%     3) y'(x0 == 0) == tan(theta_initial)\n",
    "%     4) y'(x1 == Nozzle_Length  - .382*Radius_Throat*sin(Theta_Initial)) == tan(theta_exit)\n",
    " \n",
    "% http://soliton.ae.gatech.edu/people/jseitzma/classes/ae6450/bell_nozzle.pdf\n",
    "% Sections 3.4+ in https://www.ewp.rpi.edu/hartford/~ernesto/S2013/EP/MaterialsforStudents/Lee/Sutton-Biblarz-Rocket_Propulsion_Elements.pdf\n",
    "Radius_Throat = Diameter_Throat/2;\n",
    "Radius_Exit = Diameter_Exit/2;\n",
    "\n",
    "Theta_Initial = 25*3.141592/180; % Given in degrees by Rao, based on expansion ratio; here it's converted to radians\n",
    "Theta_Exit = 12*3.141592/180; % Given in degrees by Rao, based on expansion ratio; here it's converted to radians\n",
    "\n",
    "% (xN,yN) is the point where circular approximation ends and parabolic\n",
    "% approximation begins; relative to center of nozzle throat\n",
    "xN = .382*Radius_Throat*sin(Theta_Initial);                         %units inches\n",
    "yN = .382*Radius_Throat*(1-cos(Theta_Initial)) + Radius_Throat;     %units inches\n",
    "\n",
    "% (x1,y1) exit lip of the nozzle relative to (xN,yN)\n",
    "x1 = .8*(Diameter_Throat/2)/tan(15*pi/180)*(Expansion_Ratio^.5-1+1.5*(1/cos(15*pi/180)-1)) - xN;%units inches\n",
    "y1 = Radius_Exit -yN;                                           %units inches\n",
    "\n",
    "N = tan(Theta_Initial); %Derivative at (x0,y0)\n",
    "E = tan(Theta_Exit);    %Derivative at (x1,y1)\n",
    "\n",
    "P = (E*(2*x1*N-y1) - y1*N)/(x1*N+x1*E-2*y1)\n",
    "Q = -(y1-x1*E)^2*(x1*N-y1)/(2*(.5*x1*E+.5*x1*N-y1)^2)\n",
    "S = -(y1-x1*E)^2*(y1-x1*N)^2*(E-N)/(2*(.5*x1*E+.5*x1*N-y1)^3)\n",
    "T = (y1-x1*E)^4*(y1-x1*N)^2/(4*(.5*x1*E+.5*x1*N-y1)^4)\n"
   ]
  }
 ],
 "metadata": {
  "kernelspec": {
   "display_name": "Python 3",
   "language": "python",
   "name": "python3"
  },
  "language_info": {
   "codemirror_mode": {
    "name": "ipython",
    "version": 3
   },
   "file_extension": ".py",
   "mimetype": "text/x-python",
   "name": "python",
   "nbconvert_exporter": "python",
   "pygments_lexer": "ipython3",
   "version": "3.6.0"
  }
 },
 "nbformat": 4,
 "nbformat_minor": 2
}
